{
 "cells": [
  {
   "cell_type": "code",
   "execution_count": 26,
   "metadata": {
    "collapsed": true
   },
   "outputs": [],
   "source": [
    "import time\n",
    "\n",
    "import numpy as np\n",
    "import tensorflow as tf"
   ]
  },
  {
   "cell_type": "markdown",
   "metadata": {},
   "source": [
    "## Python `for` loop version"
   ]
  },
  {
   "cell_type": "code",
   "execution_count": 19,
   "metadata": {
    "collapsed": false
   },
   "outputs": [
    {
     "name": "stdout",
     "output_type": "stream",
     "text": [
      "Time elapsed: 1.0378661155700684 seconds\n"
     ]
    }
   ],
   "source": [
    "tf.reset_default_graph()\n",
    "# Accumulator Variable\n",
    "total = tf.Variable(0.0)\n",
    "# Random inputs to multiply\n",
    "a = tf.random_normal([1000, 1000])\n",
    "b = tf.random_normal([1000, 1000])\n",
    "# Calculate value to add to accumulator variable\n",
    "mul = tf.matmul(a, b)\n",
    "mean = tf.reduce_mean(mul)\n",
    "acc = total.assign_add(mean)\n",
    "# Initialization op\n",
    "init = tf.global_variables_initializer()\n",
    "\n",
    "with tf.Session() as sess:\n",
    "    sess.run(init)\n",
    "    start_t = time.time()\n",
    "    for i in range(1000):\n",
    "        final_total = sess.run(acc)\n",
    "    end_t = time.time()\n",
    "    print('Time elapsed: {} seconds'.format(end_t - start_t))"
   ]
  },
  {
   "cell_type": "code",
   "execution_count": null,
   "metadata": {
    "collapsed": true
   },
   "outputs": [],
   "source": []
  },
  {
   "cell_type": "markdown",
   "metadata": {},
   "source": [
    "## `while_loop` version"
   ]
  },
  {
   "cell_type": "code",
   "execution_count": 20,
   "metadata": {
    "collapsed": false
   },
   "outputs": [
    {
     "name": "stdout",
     "output_type": "stream",
     "text": [
      "Time elapsed: 0.6644983291625977 seconds\n"
     ]
    }
   ],
   "source": [
    "tf.reset_default_graph()\n",
    "# Accumulator Variable\n",
    "total = tf.Variable(0.0)\n",
    "i = tf.constant(0)\n",
    "# Define the loop body\n",
    "def body(i, _):\n",
    "    a = tf.random_normal([1000, 1000])\n",
    "    b = tf.random_normal([1000, 1000])\n",
    "    mul = tf.matmul(a, b)\n",
    "    mean = tf.reduce_mean(mul)\n",
    "    acc = total.assign_add(mean)\n",
    "    return i+1, acc\n",
    "# Define the loop condition\n",
    "def condition(i, _):\n",
    "    return tf.less(i, 1000)\n",
    "# Create the while_loop\n",
    "out = tf.while_loop(condition, body, [i, total])\n",
    "# Initialization op\n",
    "init = tf.global_variables_initializer()\n",
    "\n",
    "with tf.Session() as sess:\n",
    "    sess.run(init)\n",
    "    start_t = time.time()\n",
    "    final_i, final_total = sess.run(out)\n",
    "    end_t = time.time()\n",
    "    print('Time elapsed: {} seconds'.format(end_t - start_t))"
   ]
  },
  {
   "cell_type": "markdown",
   "metadata": {},
   "source": [
    "## Condensed version of the above\n",
    "\n",
    "This is the same graph from above, but condensed with by using a `lambda` and some TensorFlow sugar."
   ]
  },
  {
   "cell_type": "code",
   "execution_count": 19,
   "metadata": {
    "collapsed": false
   },
   "outputs": [
    {
     "name": "stdout",
     "output_type": "stream",
     "text": [
      "0.421863\n",
      "Time elapsed: 0.6785540000000054 seconds\n"
     ]
    }
   ],
   "source": [
    "tf.reset_default_graph()\n",
    "# Accumulator Variable\n",
    "total = tf.Variable(0.0)\n",
    "# Define the loop body\n",
    "def body(i, _):\n",
    "    a = tf.random_normal([1000, 1000])\n",
    "    b = tf.random_normal([1000, 1000])\n",
    "    mul = tf.matmul(a, b)\n",
    "    mean = tf.reduce_mean(mul)\n",
    "    acc = total.assign_add(mean)\n",
    "    return i+1, acc\n",
    "# Create the while_loop\n",
    "out = tf.while_loop(lambda i, _: i < 1000, body, [0, total])\n",
    "# Initialization op\n",
    "init = tf.global_variables_initializer()\n",
    "\n",
    "with tf.Session() as sess:\n",
    "    sess.run(init)\n",
    "    start_t = time.time()\n",
    "    final_i, final_total = sess.run(out)\n",
    "    end_t = time.time()\n",
    "    print('Time elapsed: {} seconds'.format(end_t - start_t))"
   ]
  },
  {
   "cell_type": "code",
   "execution_count": null,
   "metadata": {
    "collapsed": true
   },
   "outputs": [],
   "source": []
  },
  {
   "cell_type": "code",
   "execution_count": 32,
   "metadata": {
    "collapsed": false
   },
   "outputs": [
    {
     "name": "stdout",
     "output_type": "stream",
     "text": [
      "-0.804292\n",
      "Time elapsed: 0.7053129999999328 seconds\n"
     ]
    }
   ],
   "source": [
    "tf.reset_default_graph()\n",
    "# Accumulator Variable\n",
    "total = tf.Variable(0.0)\n",
    "# Define the loop body\n",
    "def body(i, _):\n",
    "    with tf.name_scope('body'):\n",
    "        a = tf.random_normal([1000, 1000])\n",
    "        b = tf.random_normal([1000, 1000])\n",
    "        mul = tf.matmul(a, b)\n",
    "        mean = tf.reduce_mean(mul)\n",
    "        acc = total.assign_add(mean)\n",
    "        return i+1, acc\n",
    "# Create the while_loop\n",
    "out = tf.while_loop(lambda i, _: i < 1000, body, [0, total])\n",
    "# Initialization op\n",
    "init = tf.global_variables_initializer()\n",
    "\n",
    "with tf.Session() as sess:\n",
    "    sess.run(init)\n",
    "    start_t = time.time()\n",
    "    final_i, final_total = sess.run(out)\n",
    "    end_t = time.time()\n",
    "    print('Time elapsed: {} seconds'.format(end_t - start_t))\n",
    "    \n",
    "tf.summary.FileWriter('tbout/while_loop', graph=tf.get_default_graph()).close()"
   ]
  },
  {
   "cell_type": "code",
   "execution_count": null,
   "metadata": {
    "collapsed": true
   },
   "outputs": [],
   "source": []
  },
  {
   "cell_type": "markdown",
   "metadata": {},
   "source": [
    "# 1000 Ops vs 1 `tf.while_loop`"
   ]
  },
  {
   "cell_type": "code",
   "execution_count": 24,
   "metadata": {
    "collapsed": false
   },
   "outputs": [
    {
     "name": "stdout",
     "output_type": "stream",
     "text": [
      "Graph creation time: 5.356990337371826 seconds\n",
      "Time elapsed: 2.4342949390411377 seconds\n"
     ]
    }
   ],
   "source": [
    "tf.reset_default_graph()\n",
    "graph_start_time = time.time()\n",
    "# Random inputs to multiply\n",
    "a = tf.random_normal([1000, 1000])\n",
    "for i in range(1000):\n",
    "    a = tf.matmul(a, tf.random_normal([1000, 1000]))\n",
    "graph_creation_time = time.time() - graph_start_time\n",
    "with tf.Session() as sess:\n",
    "    start_t = time.time()\n",
    "    final_total = sess.run(a)\n",
    "    end_t = time.time()\n",
    "    print('Graph creation time: {} seconds'.format(graph_creation_time))\n",
    "    print('Time elapsed: {} seconds'.format(end_t - start_t))"
   ]
  },
  {
   "cell_type": "code",
   "execution_count": 25,
   "metadata": {
    "collapsed": false
   },
   "outputs": [
    {
     "name": "stdout",
     "output_type": "stream",
     "text": [
      "Graph creation time: 0.04867196083068848 seconds\n",
      "Time elapsed: 0.5266127586364746 seconds\n"
     ]
    }
   ],
   "source": [
    "tf.reset_default_graph()\n",
    "graph_start_time = time.time()\n",
    "# Define the loop body\n",
    "def body(i, a):\n",
    "    with tf.name_scope('body'):\n",
    "        return i+1, tf.matmul(a, tf.random_normal([1000, 1000]))\n",
    "# Create the while_loop\n",
    "out = tf.while_loop(lambda i, _: i < 1000, body, [0, tf.random_normal([1000, 1000])])\n",
    "graph_creation_time = time.time() - graph_start_time\n",
    "with tf.Session() as sess:\n",
    "    start_t = time.time()\n",
    "    final_i, final_total = sess.run(out)\n",
    "    end_t = time.time()\n",
    "    print('Graph creation time: {} seconds'.format(graph_creation_time))\n",
    "    print('Time elapsed: {} seconds'.format(end_t - start_t))"
   ]
  },
  {
   "cell_type": "code",
   "execution_count": null,
   "metadata": {
    "collapsed": true
   },
   "outputs": [],
   "source": []
  }
 ],
 "metadata": {
  "kernelspec": {
   "display_name": "Python 3",
   "language": "python",
   "name": "python3"
  },
  "language_info": {
   "codemirror_mode": {
    "name": "ipython",
    "version": 3
   },
   "file_extension": ".py",
   "mimetype": "text/x-python",
   "name": "python",
   "nbconvert_exporter": "python",
   "pygments_lexer": "ipython3",
   "version": "3.4.3"
  }
 },
 "nbformat": 4,
 "nbformat_minor": 0
}
