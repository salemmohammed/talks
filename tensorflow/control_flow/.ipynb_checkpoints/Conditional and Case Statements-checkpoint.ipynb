{
 "cells": [
  {
   "cell_type": "code",
   "execution_count": 40,
   "metadata": {
    "collapsed": true
   },
   "outputs": [],
   "source": [
    "import time\n",
    "\n",
    "import numpy as np\n",
    "import tensorflow as tf"
   ]
  },
  {
   "cell_type": "markdown",
   "metadata": {
    "collapsed": true
   },
   "source": [
    "# Conditional and Case Statements"
   ]
  },
  {
   "cell_type": "markdown",
   "metadata": {},
   "source": [
    "## `tf.cond`\n",
    "\n",
    "`tf.cond` is basically an `if/else` statement. You provide a boolean predicate and two functions which return tensors. One will run if the predicate is `True`, the other if it is `False`. Here's a simple example:"
   ]
  },
  {
   "cell_type": "code",
   "execution_count": 13,
   "metadata": {
    "collapsed": true
   },
   "outputs": [],
   "source": [
    "tf.reset_default_graph()\n",
    "pred = tf.placeholder(tf.bool)\n",
    "def run_if_true():\n",
    "    return tf.add(3, 3)\n",
    "def run_if_false():\n",
    "    return tf.square(3)\n",
    "out = tf.cond(pred, run_if_true, run_if_false)"
   ]
  },
  {
   "cell_type": "code",
   "execution_count": 24,
   "metadata": {
    "collapsed": false
   },
   "outputs": [
    {
     "name": "stdout",
     "output_type": "stream",
     "text": [
      "Choice: False\tResult: 9\n"
     ]
    }
   ],
   "source": [
    "with tf.Session() as sess:\n",
    "    choice = np.random.choice([True, False])\n",
    "    feed_dict = {pred: choice}\n",
    "    res = sess.run(out, feed_dict)\n",
    "    print('Choice: {}\\tResult: {}'.format(choice, res))"
   ]
  },
  {
   "cell_type": "markdown",
   "metadata": {},
   "source": [
    "For simple functions, we can use lambdas instead:"
   ]
  },
  {
   "cell_type": "code",
   "execution_count": 18,
   "metadata": {
    "collapsed": true
   },
   "outputs": [],
   "source": [
    "tf.reset_default_graph()\n",
    "pred = tf.placeholder(tf.bool)\n",
    "out = tf.cond(pred, lambda: tf.add(3, 3), lambda: tf.square(3))"
   ]
  },
  {
   "cell_type": "code",
   "execution_count": null,
   "metadata": {
    "collapsed": true
   },
   "outputs": [],
   "source": []
  },
  {
   "cell_type": "code",
   "execution_count": null,
   "metadata": {
    "collapsed": true
   },
   "outputs": [],
   "source": []
  },
  {
   "cell_type": "code",
   "execution_count": 35,
   "metadata": {
    "collapsed": true
   },
   "outputs": [],
   "source": [
    "def stochastic_depth_conv2d(inputs, filters, kernel_size, keep_prob, activation=tf.nn.relu, name=None):\n",
    "    with tf.variable_scope(name, 'stochastic_depth_conv'):\n",
    "        def full_layer():\n",
    "            return tf.layers.conv2d(inputs, filters, kernel_size, activation=activation)\n",
    "        def skip_layer():\n",
    "            if inputs.get_shape().as_list()[-1] != filters:\n",
    "                return tf.layers.conv2d(inputs, filters, [1, 1], activation=activation)\n",
    "            else:\n",
    "                return inputs\n",
    "        pred = tf.random_uniform([]) < keep_prob\n",
    "        return tf.cond(pred, full_layer, skip_layer)"
   ]
  },
  {
   "cell_type": "code",
   "execution_count": null,
   "metadata": {
    "collapsed": true
   },
   "outputs": [],
   "source": [
    "tf.reset_default_graph()\n",
    "inputs = tf.placeholder(tf.float32, [None, 228, 228, 3], name='inputs')\n",
    "keep_prob = tf.placeholder(tf.float32, [], name='keep_prob')\n",
    "conv = stochastic_depth_conv2d(inputs, 32, [3, 3], keep_prob)\n",
    "conv = stochastic_depth_conv2d(conv, 32, [3, 3], keep_prob)\n",
    "conv = stochastic_depth_conv2d(conv, 32, [3, 3], keep_prob)\n",
    "conv = stochastic_depth_conv2d(conv, 64, [3, 3], keep_prob)\n",
    "conv = stochastic_depth_conv2d(conv, 64, [3, 3], keep_prob)\n",
    "conv = stochastic_depth_conv2d(conv, 64, [3, 3], keep_prob)\n",
    "init = tf.global_variables_initializer()\n",
    "\n",
    "with tf.Session() as sess:\n",
    "    sess.run(init)\n",
    "    feed_dict = {\n",
    "        inputs: np.random.normal(size=[32, 228, 228, 3]),\n",
    "        keep_prob: 0.2\n",
    "    }\n",
    "    start_t = time.time()\n",
    "    sess.run(conv, feed_dict)\n",
    "    end_t = time.time()\n",
    "    print(end_t - start_t)"
   ]
  },
  {
   "cell_type": "code",
   "execution_count": null,
   "metadata": {
    "collapsed": true
   },
   "outputs": [],
   "source": [
    "tf.summary.FileWriter('stochastic_graph', graph=tf.get_default_graph()).close()"
   ]
  },
  {
   "cell_type": "markdown",
   "metadata": {},
   "source": [
    "## Efficiency"
   ]
  },
  {
   "cell_type": "code",
   "execution_count": 79,
   "metadata": {
    "collapsed": false
   },
   "outputs": [
    {
     "name": "stdout",
     "output_type": "stream",
     "text": [
      "0.3996918201446533\n"
     ]
    }
   ],
   "source": [
    "tf.reset_default_graph()\n",
    "inputs = tf.placeholder(tf.float32, [None, 228, 228, 3], name='inputs')\n",
    "keep_prob = tf.placeholder(tf.float32, [], name='keep_prob')\n",
    "conv = stochastic_depth_conv2d(inputs, 32, [3, 3], keep_prob)\n",
    "for i in range(100):\n",
    "    conv = stochastic_depth_conv2d(conv, 32, [3, 3], keep_prob)\n",
    "init = tf.global_variables_initializer()\n",
    "\n",
    "with tf.Session() as sess:\n",
    "    sess.run(init)\n",
    "    feed_dict = {\n",
    "        inputs: np.random.normal(size=[32, 228, 228, 3]),\n",
    "        keep_prob: 0.2\n",
    "    }\n",
    "    start_t = time.time()\n",
    "    sess.run(conv, feed_dict)\n",
    "    end_t = time.time()\n",
    "    print(end_t - start_t)"
   ]
  },
  {
   "cell_type": "code",
   "execution_count": 75,
   "metadata": {
    "collapsed": false
   },
   "outputs": [],
   "source": []
  },
  {
   "cell_type": "code",
   "execution_count": 81,
   "metadata": {
    "collapsed": false
   },
   "outputs": [
    {
     "name": "stdout",
     "output_type": "stream",
     "text": [
      "0.45209479331970215\n"
     ]
    }
   ],
   "source": [
    "tf.reset_default_graph()\n",
    "inputs = tf.placeholder(tf.float32, [None, 228, 228, 3], name='inputs')\n",
    "conv = tf.layers.conv2d(inputs, 32, [3, 3])\n",
    "for i in range(100):\n",
    "    conv = tf.layers.conv2d(conv, 32, [3, 3])\n",
    "init = tf.global_variables_initializer()\n",
    "\n",
    "with tf.Session() as sess:\n",
    "    sess.run(init)\n",
    "    feed_dict = {inputs: np.random.normal(size=[32, 228, 228, 3])}\n",
    "    start_t = time.time()\n",
    "    sess.run(conv, feed_dict)\n",
    "    end_t = time.time()\n",
    "    print(end_t - start_t)"
   ]
  },
  {
   "cell_type": "code",
   "execution_count": null,
   "metadata": {
    "collapsed": true
   },
   "outputs": [],
   "source": []
  }
 ],
 "metadata": {
  "kernelspec": {
   "display_name": "Python 3",
   "language": "python",
   "name": "python3"
  },
  "language_info": {
   "codemirror_mode": {
    "name": "ipython",
    "version": 3
   },
   "file_extension": ".py",
   "mimetype": "text/x-python",
   "name": "python",
   "nbconvert_exporter": "python",
   "pygments_lexer": "ipython3",
   "version": "3.4.3"
  }
 },
 "nbformat": 4,
 "nbformat_minor": 0
}
