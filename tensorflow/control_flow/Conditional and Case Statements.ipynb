{
 "cells": [
  {
   "cell_type": "code",
   "execution_count": 40,
   "metadata": {
    "collapsed": true
   },
   "outputs": [],
   "source": [
    "import time\n",
    "\n",
    "import numpy as np\n",
    "import tensorflow as tf"
   ]
  },
  {
   "cell_type": "markdown",
   "metadata": {
    "collapsed": true
   },
   "source": [
    "# Conditional and Case Statements"
   ]
  },
  {
   "cell_type": "markdown",
   "metadata": {},
   "source": [
    "## `tf.cond`\n",
    "\n",
    "`tf.cond` is basically an `if/else` statement. You provide a boolean predicate and two functions which return tensors. One will run if the predicate is `True`, the other if it is `False`. Here's a simple example:"
   ]
  },
  {
   "cell_type": "code",
   "execution_count": 13,
   "metadata": {
    "collapsed": true
   },
   "outputs": [],
   "source": [
    "tf.reset_default_graph()\n",
    "pred = tf.placeholder(tf.bool)\n",
    "def run_if_true():\n",
    "    return tf.add(3, 3)\n",
    "def run_if_false():\n",
    "    return tf.square(3)\n",
    "out = tf.cond(pred, run_if_true, run_if_false)"
   ]
  },
  {
   "cell_type": "code",
   "execution_count": 24,
   "metadata": {
    "collapsed": false
   },
   "outputs": [
    {
     "name": "stdout",
     "output_type": "stream",
     "text": [
      "Choice: False\tResult: 9\n"
     ]
    }
   ],
   "source": [
    "with tf.Session() as sess:\n",
    "    choice = np.random.choice([True, False])\n",
    "    feed_dict = {pred: choice}\n",
    "    res = sess.run(out, feed_dict)\n",
    "    print('Choice: {}\\tResult: {}'.format(choice, res))"
   ]
  },
  {
   "cell_type": "markdown",
   "metadata": {},
   "source": [
    "For simple functions, we can use lambdas instead:"
   ]
  },
  {
   "cell_type": "code",
   "execution_count": 18,
   "metadata": {
    "collapsed": true
   },
   "outputs": [],
   "source": [
    "tf.reset_default_graph()\n",
    "pred = tf.placeholder(tf.bool)\n",
    "out = tf.cond(pred, lambda: tf.add(3, 3), lambda: tf.square(3))"
   ]
  },
  {
   "cell_type": "code",
   "execution_count": null,
   "metadata": {
    "collapsed": true
   },
   "outputs": [],
   "source": []
  },
  {
   "cell_type": "markdown",
   "metadata": {},
   "source": [
    "## Stochastic Depth\n",
    "\n",
    "https://arxiv.org/pdf/1603.09382.pdf"
   ]
  },
  {
   "cell_type": "code",
   "execution_count": 108,
   "metadata": {
    "collapsed": true
   },
   "outputs": [],
   "source": [
    "def stochastic_depth_conv2d(inputs, filters, kernel_size, keep_prob, padding='same', activation=tf.nn.relu, name=None):\n",
    "    with tf.variable_scope(name, 'stochastic_depth_conv'):\n",
    "        def full_layer():\n",
    "            return tf.layers.conv2d(inputs, filters, kernel_size, padding=padding, activation=activation)\n",
    "        def skip_layer():\n",
    "            if inputs.get_shape().as_list()[-1] != filters:\n",
    "                return tf.layers.conv2d(inputs, filters, [1, 1], padding=padding, activation=activation)\n",
    "            else:\n",
    "                return inputs\n",
    "        pred = tf.random_uniform([]) < keep_prob\n",
    "        return tf.cond(pred, full_layer, skip_layer)"
   ]
  },
  {
   "cell_type": "code",
   "execution_count": 109,
   "metadata": {
    "collapsed": false
   },
   "outputs": [
    {
     "name": "stdout",
     "output_type": "stream",
     "text": [
      "0.7934935092926025\n"
     ]
    }
   ],
   "source": [
    "tf.reset_default_graph()\n",
    "inputs = tf.placeholder(tf.float32, [None, 228, 228, 3], name='inputs')\n",
    "keep_prob = tf.placeholder(tf.float32, [], name='keep_prob')\n",
    "conv = stochastic_depth_conv2d(inputs, 32, [3, 3], keep_prob)\n",
    "conv = stochastic_depth_conv2d(conv, 32, [3, 3], keep_prob)\n",
    "conv = stochastic_depth_conv2d(conv, 32, [3, 3], keep_prob)\n",
    "conv = stochastic_depth_conv2d(conv, 64, [3, 3], keep_prob)\n",
    "conv = stochastic_depth_conv2d(conv, 64, [3, 3], keep_prob)\n",
    "conv = stochastic_depth_conv2d(conv, 64, [3, 3], keep_prob)\n",
    "init = tf.global_variables_initializer()\n",
    "\n",
    "with tf.Session() as sess:\n",
    "    sess.run(init)\n",
    "    feed_dict = {\n",
    "        inputs: np.random.normal(size=[32, 228, 228, 3]),\n",
    "        keep_prob: 0.5\n",
    "    }\n",
    "    start_t = time.time()\n",
    "    sess.run(conv, feed_dict)\n",
    "    end_t = time.time()\n",
    "    print(end_t - start_t)"
   ]
  },
  {
   "cell_type": "code",
   "execution_count": 86,
   "metadata": {
    "collapsed": true
   },
   "outputs": [],
   "source": [
    "tf.summary.FileWriter('stochastic_graph', graph=tf.get_default_graph()).close()"
   ]
  },
  {
   "cell_type": "code",
   "execution_count": null,
   "metadata": {
    "collapsed": true
   },
   "outputs": [],
   "source": []
  },
  {
   "cell_type": "markdown",
   "metadata": {},
   "source": [
    "# Checking out gradients"
   ]
  },
  {
   "cell_type": "code",
   "execution_count": 118,
   "metadata": {
    "collapsed": true
   },
   "outputs": [],
   "source": [
    "def stochastic_depth_conv2d(inputs, filters, kernel_size, keep_prob, padding='same', activation=tf.nn.relu, name=None):\n",
    "    with tf.variable_scope(name, 'stochastic_depth_conv'):\n",
    "        def full_layer():\n",
    "            return tf.layers.conv2d(inputs, filters, kernel_size, padding=padding, activation=activation, name='conv')\n",
    "        def skip_layer():\n",
    "            if inputs.get_shape().as_list()[-1] != filters:\n",
    "                return tf.layers.conv2d(inputs, filters, [1, 1], padding=padding, activation=activation, name='skip')\n",
    "            else:\n",
    "                return inputs\n",
    "        pred = tf.random_uniform([]) < keep_prob\n",
    "        return tf.cond(pred, full_layer, skip_layer), pred"
   ]
  },
  {
   "cell_type": "code",
   "execution_count": 149,
   "metadata": {
    "collapsed": false
   },
   "outputs": [],
   "source": [
    "tf.reset_default_graph()\n",
    "inputs = tf.placeholder(tf.float32, [None, 3, 3, 1], name='inputs')\n",
    "keep_prob = tf.placeholder(tf.float32, [], name='keep_prob')\n",
    "conv1, pred1 = stochastic_depth_conv2d(inputs, 3, [3, 3], keep_prob, name='conv1')\n",
    "conv2, pred2 = stochastic_depth_conv2d(conv1, 3, [3, 3], keep_prob, name='conv2')\n",
    "conv3, pred3 = stochastic_depth_conv2d(conv2, 3, [3, 3], keep_prob, name='conv3')\n",
    "init = tf.global_variables_initializer()\n",
    "\n",
    "opt = tf.train.GradientDescentOptimizer(0.05)\n",
    "var_list = tf.trainable_variables()\n",
    "grads = opt.compute_gradients(conv3, var_list)"
   ]
  },
  {
   "cell_type": "code",
   "execution_count": 150,
   "metadata": {
    "collapsed": false
   },
   "outputs": [
    {
     "name": "stdout",
     "output_type": "stream",
     "text": [
      "False True True\n",
      "\n",
      "conv1/conv/kernel\n",
      "[[[ 0.  0.  0.]\n",
      "  [ 0.  0.  0.]\n",
      "  [ 0.  0.  0.]]\n",
      "\n",
      " [[ 0.  0.  0.]\n",
      "  [ 0.  0.  0.]\n",
      "  [ 0.  0.  0.]]\n",
      "\n",
      " [[ 0.  0.  0.]\n",
      "  [ 0.  0.  0.]\n",
      "  [ 0.  0.  0.]]]\n",
      "\n",
      "conv1/conv/bias\n",
      "[ 0.  0.  0.]\n",
      "\n",
      "conv1/skip/kernel\n",
      "[-0.14867817 -0.25867996  0.49975032]\n",
      "\n",
      "conv1/skip/bias\n",
      "[-0.04753564  0.21334063  0.26120389]\n",
      "\n",
      "conv2/conv/kernel\n",
      "[[[[-0.23143603  0.45451713  0.36707506]\n",
      "   [-0.06008153  0.1246832   0.02880499]\n",
      "   [-0.50861377  0.99886632  0.80669987]]\n",
      "\n",
      "  [[-0.46919554  0.          0.        ]\n",
      "   [-0.14349511  0.41343397  0.04362874]\n",
      "   [-1.03112423  0.          0.        ]]\n",
      "\n",
      "  [[-0.13635001  0.          0.        ]\n",
      "   [-0.12059332  0.23890024  0.        ]\n",
      "   [-0.29964861  0.          0.        ]]]\n",
      "\n",
      "\n",
      " [[[-0.12739229  0.50220871  0.20946743]\n",
      "   [-0.08504266  0.          0.        ]\n",
      "   [-0.27996275  1.10367548  0.46033463]]\n",
      "\n",
      "  [[-0.4885253   0.92358738  0.        ]\n",
      "   [-0.12520075  0.24877444  0.02124467]\n",
      "   [-1.07360423  2.0297153   0.        ]]\n",
      "\n",
      "  [[-0.42817545  1.1857729   0.        ]\n",
      "   [-0.08447835  0.14890072  0.        ]\n",
      "   [-0.9409768   2.60590553  0.        ]]]\n",
      "\n",
      "\n",
      " [[[ 0.          0.02311521  0.01357384]\n",
      "   [-0.0512457   0.06450799  0.        ]\n",
      "   [ 0.          0.05079899  0.02983047]]\n",
      "\n",
      "  [[-0.2168301   0.48178902  0.        ]\n",
      "   [-0.08939049  0.26622546  0.00742954]\n",
      "   [-0.47651514  1.05880034  0.        ]]\n",
      "\n",
      "  [[-0.41050935  0.96409273  0.        ]\n",
      "   [-0.00977669  0.01230688  0.        ]\n",
      "   [-0.90215296  2.1187315   0.        ]]]]\n",
      "\n",
      "conv2/conv/bias\n",
      "[-1.15367532  2.26391649  0.39750445]\n",
      "\n",
      "conv3/conv/kernel\n",
      "[[[[ 0.          0.81698173  0.21320973]\n",
      "   [ 0.          0.86892128  0.43504614]\n",
      "   [ 0.          0.          0.        ]]\n",
      "\n",
      "  [[ 0.          0.21320973  0.        ]\n",
      "   [ 0.          0.63921189  0.        ]\n",
      "   [ 0.          0.11708957  0.        ]]\n",
      "\n",
      "  [[ 0.          0.          0.        ]\n",
      "   [ 0.          0.          0.        ]\n",
      "   [ 0.          0.          0.        ]]]\n",
      "\n",
      "\n",
      " [[[ 0.          1.14320636  0.85667318]\n",
      "   [ 0.          0.          1.43003404]\n",
      "   [ 0.          0.          0.        ]]\n",
      "\n",
      "  [[ 0.          1.82726276  0.81698173]\n",
      "   [ 0.          1.72358203  0.86892128]\n",
      "   [ 0.          0.3997443   0.        ]]\n",
      "\n",
      "  [[ 0.          0.81698173  0.        ]\n",
      "   [ 0.          0.86892128  0.20416577]\n",
      "   [ 0.          0.          0.11708957]]]\n",
      "\n",
      "\n",
      " [[[ 0.          0.          2.31630349]\n",
      "   [ 0.          0.          1.86390924]\n",
      "   [ 0.          0.          0.        ]]\n",
      "\n",
      "  [[ 0.          1.4993217   1.96018815]\n",
      "   [ 0.          0.99498791  1.0730871 ]\n",
      "   [ 0.          0.          0.11708957]]\n",
      "\n",
      "  [[ 0.          1.96018815  0.97058952]\n",
      "   [ 0.          0.86892128  0.49771363]\n",
      "   [ 0.          0.          0.5168339 ]]]]\n",
      "\n",
      "conv3/conv/bias\n",
      "[ 0.  3.  3.]\n"
     ]
    }
   ],
   "source": [
    "with tf.Session() as sess:\n",
    "    sess.run(init)\n",
    "    feed_dict = {\n",
    "        inputs: np.random.normal(size=[1, 3, 3, 1]),\n",
    "        keep_prob: 0.5\n",
    "    }\n",
    "    g, p1, p2, p3 = sess.run([grads, pred1, pred2, pred3], feed_dict)\n",
    "    print(p1, p2, p3)\n",
    "    for var, grad_value in zip(var_list, g):\n",
    "        grad, value = grad_value\n",
    "        print('',var.op.name, grad.squeeze(), sep='\\n')"
   ]
  },
  {
   "cell_type": "code",
   "execution_count": 134,
   "metadata": {
    "collapsed": false
   },
   "outputs": [
    {
     "data": {
      "text/plain": [
       "[<tensorflow.python.ops.variables.Variable at 0x7f5846714828>,\n",
       " <tensorflow.python.ops.variables.Variable at 0x7f58467118d0>,\n",
       " <tensorflow.python.ops.variables.Variable at 0x7f5845ea0470>,\n",
       " <tensorflow.python.ops.variables.Variable at 0x7f5845ea01d0>,\n",
       " <tensorflow.python.ops.variables.Variable at 0x7f5846bed588>,\n",
       " <tensorflow.python.ops.variables.Variable at 0x7f5846bed4a8>]"
      ]
     },
     "execution_count": 134,
     "metadata": {},
     "output_type": "execute_result"
    }
   ],
   "source": []
  },
  {
   "cell_type": "markdown",
   "metadata": {},
   "source": [
    "## Efficiency Comparison\n",
    "\n",
    "Unfortunately, due to the requirements of TensorFlow's dataflow model, chaining multiple `tf.cond()` statments doesn't provide a performance benefit"
   ]
  },
  {
   "cell_type": "code",
   "execution_count": 104,
   "metadata": {
    "collapsed": false
   },
   "outputs": [
    {
     "name": "stdout",
     "output_type": "stream",
     "text": [
      "0.12723159790039062\n"
     ]
    }
   ],
   "source": [
    "tf.reset_default_graph()\n",
    "inputs = tf.placeholder(tf.float32, [None, 228, 228, 3], name='inputs')\n",
    "keep_prob = tf.placeholder(tf.float32, [], name='keep_prob')\n",
    "conv = stochastic_depth_conv2d(inputs, 32, [3, 3], keep_prob)\n",
    "for i in range(100):\n",
    "    conv = stochastic_depth_conv2d(conv, 32, [3, 3], keep_prob)\n",
    "init = tf.global_variables_initializer()\n",
    "\n",
    "with tf.Session() as sess:\n",
    "    sess.run(init)\n",
    "    feed_dict = {\n",
    "        inputs: np.random.normal(size=[32, 228, 228, 3]),\n",
    "        keep_prob: 0.5\n",
    "    }\n",
    "    start_t = time.time()\n",
    "    sess.run(conv, feed_dict)\n",
    "    end_t = time.time()\n",
    "    print(end_t - start_t)"
   ]
  },
  {
   "cell_type": "code",
   "execution_count": null,
   "metadata": {
    "collapsed": false
   },
   "outputs": [],
   "source": []
  },
  {
   "cell_type": "code",
   "execution_count": 102,
   "metadata": {
    "collapsed": false
   },
   "outputs": [
    {
     "name": "stdout",
     "output_type": "stream",
     "text": [
      "0.14161086082458496\n"
     ]
    }
   ],
   "source": [
    "tf.reset_default_graph()\n",
    "inputs = tf.placeholder(tf.float32, [None, 228, 228, 3], name='inputs')\n",
    "conv = tf.layers.conv2d(inputs, 32, [3, 3], padding='same', activation=tf.nn.relu)\n",
    "for i in range(100):\n",
    "    conv = tf.layers.conv2d(inputs, 32, [3, 3], padding='same', activation=tf.nn.relu)\n",
    "init = tf.global_variables_initializer()\n",
    "\n",
    "with tf.Session() as sess:\n",
    "    sess.run(init)\n",
    "    feed_dict = {inputs: np.random.normal(size=[32, 228, 228, 3])}\n",
    "    start_t = time.time()\n",
    "    sess.run(conv, feed_dict)\n",
    "    end_t = time.time()\n",
    "    print(end_t - start_t)"
   ]
  },
  {
   "cell_type": "code",
   "execution_count": null,
   "metadata": {
    "collapsed": true
   },
   "outputs": [],
   "source": []
  },
  {
   "cell_type": "code",
   "execution_count": null,
   "metadata": {
    "collapsed": true
   },
   "outputs": [],
   "source": []
  },
  {
   "cell_type": "code",
   "execution_count": null,
   "metadata": {
    "collapsed": false
   },
   "outputs": [],
   "source": []
  },
  {
   "cell_type": "code",
   "execution_count": null,
   "metadata": {
    "collapsed": false
   },
   "outputs": [],
   "source": []
  },
  {
   "cell_type": "code",
   "execution_count": null,
   "metadata": {
    "collapsed": true
   },
   "outputs": [],
   "source": []
  }
 ],
 "metadata": {
  "kernelspec": {
   "display_name": "Python 3",
   "language": "python",
   "name": "python3"
  },
  "language_info": {
   "codemirror_mode": {
    "name": "ipython",
    "version": 3
   },
   "file_extension": ".py",
   "mimetype": "text/x-python",
   "name": "python",
   "nbconvert_exporter": "python",
   "pygments_lexer": "ipython3",
   "version": "3.4.3"
  }
 },
 "nbformat": 4,
 "nbformat_minor": 0
}
